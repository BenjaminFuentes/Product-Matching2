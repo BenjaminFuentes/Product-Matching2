{
 "cells": [
  {
   "cell_type": "markdown",
   "metadata": {
    "colab_type": "text",
    "id": "aXpIRSAQ-cw1"
   },
   "source": [
    "# Getting started with DeepMatcher\n",
    "\n",
    "Note: you can run **[this notebook live in Google Colab](https://colab.research.google.com/github/anhaidgroup/deepmatcher/blob/master/examples/getting_started.ipynb)** and use free GPUs provided by Google.\n",
    "\n",
    "This tutorial describes how to effortlessly perform entity matching using deep neural networks. Specifically, we will see how to match pairs of tuples (also called data records or table rows) to determine if they refer to the same real world entity. To do so, we will need labeled examples as input, i.e., tuple pairs which have been annotated as matches or non-matches. This will be used to train our neural network using supervised learning. At the end of this tutorial, you will have a trained neural network as output which you can easily apply to unlabeled tuple pairs to make predictions."
   ]
  },
  {
   "cell_type": "markdown",
   "metadata": {
    "colab_type": "text",
    "id": "19SozaN8QJOf"
   },
   "source": [
    "As an overview, here are the 4 steps to use `deepmatcher` which we will go through in this tutorial:\n",
    "\n",
    "<ol start=\"0\">\n",
    "  <li>Setup</li>\n",
    "  <li>Process labeled data</li>\n",
    "  <li>Define neural network model</li>\n",
    "  <li>Train model</li>\n",
    "  <li>Apply model to new data</li>\n",
    "</ol>\n",
    "\n",
    "Let's begin!"
   ]
  },
  {
   "cell_type": "markdown",
   "metadata": {
    "colab_type": "text",
    "id": "sBtZVvrSQJOf"
   },
   "source": [
    "## Step 0. Setup\n",
    "\n",
    "If you are running this notebook inside Colab, you will first need to install necessary packages by running the code below:"
   ]
  },
  {
   "cell_type": "code",
   "execution_count": 1,
   "metadata": {
    "colab": {
     "autoexec": {
      "startup": false,
      "wait_interval": 0
     },
     "base_uri": "https://localhost:8080/",
     "height": 17
    },
    "colab_type": "code",
    "executionInfo": {
     "elapsed": 82136,
     "status": "ok",
     "timestamp": 1524617064270,
     "user": {
      "displayName": "",
      "photoUrl": "",
      "userId": ""
     },
     "user_tz": 300
    },
    "id": "LEiDiDNz-PEG",
    "outputId": "3af884c1-b09b-4659-89da-eb1c24c811c7"
   },
   "outputs": [],
   "source": [
    "try:\n",
    "    import deepmatcher\n",
    "except:\n",
    "    !pip install -qqq deepmatcher"
   ]
  },
  {
   "cell_type": "markdown",
   "metadata": {
    "colab_type": "text",
    "id": "D1Hmd9LXQJOk"
   },
   "source": [
    "Now let's import `deepmatcher` which will do all the heavy lifting to build and train neural network models for entity matching. "
   ]
  },
  {
   "cell_type": "code",
   "execution_count": 2,
   "metadata": {
    "colab": {
     "autoexec": {
      "startup": false,
      "wait_interval": 0
     },
     "base_uri": "https://localhost:8080/",
     "height": 17
    },
    "colab_type": "code",
    "executionInfo": {
     "elapsed": 6623,
     "status": "ok",
     "timestamp": 1524617080672,
     "user": {
      "displayName": "",
      "photoUrl": "",
      "userId": ""
     },
     "user_tz": 300
    },
    "id": "0422OsKBQJOk",
    "outputId": "1f39e87e-380f-4ce2-95bd-bea04867553e"
   },
   "outputs": [],
   "source": [
    "import deepmatcher as dm"
   ]
  },
  {
   "cell_type": "markdown",
   "metadata": {
    "colab_type": "text",
    "id": "g6inOGkQQJOn"
   },
   "source": [
    "We recommend having a GPU available for the training in Step 4. In case a GPU is not available, we will use all available CPU cores. You can run the following command to determine if a GPU is available and will be used for training:"
   ]
  },
  {
   "cell_type": "code",
   "execution_count": 3,
   "metadata": {
    "colab": {
     "autoexec": {
      "startup": false,
      "wait_interval": 0
     },
     "base_uri": "https://localhost:8080/",
     "height": 34
    },
    "colab_type": "code",
    "executionInfo": {
     "elapsed": 289,
     "status": "ok",
     "timestamp": 1524617081918,
     "user": {
      "displayName": "",
      "photoUrl": "",
      "userId": ""
     },
     "user_tz": 300
    },
    "id": "GYb5r0etQJOo",
    "outputId": "ec451859-b108-4b36-effe-48b62ccb04a4"
   },
   "outputs": [
    {
     "data": {
      "text/plain": [
       "True"
      ]
     },
     "execution_count": 3,
     "metadata": {},
     "output_type": "execute_result"
    }
   ],
   "source": [
    "import torch\n",
    "torch.cuda.is_available()"
   ]
  },
  {
   "cell_type": "markdown",
   "metadata": {
    "colab_type": "text",
    "id": "Dv_sFh1_QJOs"
   },
   "source": [
    "### Download sample data for entity matching\n",
    "\n",
    "Now let's get some sample data to play with in this tutorial. We will need three sets of labeled data and one set of unlabeled data:\n",
    "\n",
    "1. **Training Data:** This is used for training our neural network model.\n",
    "2. **Validation Data:** This is used for determining the configuration (i.e., hyperparameters) of our model in such a way that the model does not overfit to the training set.\n",
    "3. **Test Data:** This is used to estimate the performance of our trained model on unlabeled data.\n",
    "4. **Unlabeled Data:** The trained model is applied on this data to obtain predictions, which can then be used for downstream tasks in practical application scenarios.\n",
    "\n",
    "We download these four data sets to the `sample_data` directory:"
   ]
  },
  {
   "cell_type": "code",
   "execution_count": 4,
   "metadata": {
    "colab": {
     "autoexec": {
      "startup": false,
      "wait_interval": 0
     },
     "base_uri": "https://localhost:8080/",
     "height": 17
    },
    "colab_type": "code",
    "executionInfo": {
     "elapsed": 6944,
     "status": "ok",
     "timestamp": 1524617092992,
     "user": {
      "displayName": "",
      "photoUrl": "",
      "userId": ""
     },
     "user_tz": 300
    },
    "id": "gvPSNrnUuHNF",
    "outputId": "cc8da365-7936-4bdd-9ee9-9e2dc572289d"
   },
   "outputs": [],
   "source": [
    "!mkdir -p sample_data/itunes-amazon\n",
    "!wget -qnc -P sample_data/itunes-amazon https://raw.githubusercontent.com/anhaidgroup/deepmatcher/master/examples/sample_data/itunes-amazon/train.csv\n",
    "!wget -qnc -P sample_data/itunes-amazon https://raw.githubusercontent.com/anhaidgroup/deepmatcher/master/examples/sample_data/itunes-amazon/validation.csv\n",
    "!wget -qnc -P sample_data/itunes-amazon https://raw.githubusercontent.com/anhaidgroup/deepmatcher/master/examples/sample_data/itunes-amazon/test.csv\n",
    "!wget -qnc -P sample_data/itunes-amazon https://raw.githubusercontent.com/anhaidgroup/deepmatcher/master/examples/sample_data/itunes-amazon/unlabeled.csv"
   ]
  },
  {
   "cell_type": "markdown",
   "metadata": {
    "colab_type": "text",
    "id": "lu6QgmbDQJOv"
   },
   "source": [
    "To get an idea of how our data looks like, let's take a peek at the training dataset:"
   ]
  },
  {
   "cell_type": "code",
   "execution_count": 5,
   "metadata": {
    "colab": {
     "autoexec": {
      "startup": false,
      "wait_interval": 0
     },
     "base_uri": "https://localhost:8080/",
     "height": 425
    },
    "colab_type": "code",
    "executionInfo": {
     "elapsed": 314,
     "status": "ok",
     "timestamp": 1524617124996,
     "user": {
      "displayName": "",
      "photoUrl": "",
      "userId": ""
     },
     "user_tz": 300
    },
    "id": "lpsH6NEZQJOw",
    "outputId": "358b276f-f91a-412b-ea2f-54fc567b8a36"
   },
   "outputs": [
    {
     "data": {
      "text/html": [
       "<div>\n",
       "<style scoped>\n",
       "    .dataframe tbody tr th:only-of-type {\n",
       "        vertical-align: middle;\n",
       "    }\n",
       "\n",
       "    .dataframe tbody tr th {\n",
       "        vertical-align: top;\n",
       "    }\n",
       "\n",
       "    .dataframe thead th {\n",
       "        text-align: right;\n",
       "    }\n",
       "</style>\n",
       "<table border=\"1\" class=\"dataframe\">\n",
       "  <thead>\n",
       "    <tr style=\"text-align: right;\">\n",
       "      <th></th>\n",
       "      <th>id</th>\n",
       "      <th>label</th>\n",
       "      <th>left_Song_Name</th>\n",
       "      <th>left_Artist_Name</th>\n",
       "      <th>left_Album_Name</th>\n",
       "      <th>left_Genre</th>\n",
       "      <th>left_Price</th>\n",
       "      <th>left_CopyRight</th>\n",
       "      <th>left_Time</th>\n",
       "      <th>left_Released</th>\n",
       "      <th>right_Song_Name</th>\n",
       "      <th>right_Artist_Name</th>\n",
       "      <th>right_Album_Name</th>\n",
       "      <th>right_Genre</th>\n",
       "      <th>right_Price</th>\n",
       "      <th>right_CopyRight</th>\n",
       "      <th>right_Time</th>\n",
       "      <th>right_Released</th>\n",
       "    </tr>\n",
       "  </thead>\n",
       "  <tbody>\n",
       "    <tr>\n",
       "      <th>0</th>\n",
       "      <td>448</td>\n",
       "      <td>0</td>\n",
       "      <td>Baby When the Light ( David Guetta &amp; Fred Rist...</td>\n",
       "      <td>David Guetta</td>\n",
       "      <td>Pop Life ( Extended Version ) [ Bonus Version ]</td>\n",
       "      <td>Dance , Music , Rock , Pop , House , Electroni...</td>\n",
       "      <td>$ 1.29</td>\n",
       "      <td>‰ ãÑ 2007 Gum Records</td>\n",
       "      <td>6:17</td>\n",
       "      <td>18-Sep-07</td>\n",
       "      <td>Revolver ( Madonna Vs. David Guetta Feat . Lil...</td>\n",
       "      <td>David Guetta</td>\n",
       "      <td>One Love ( Deluxe Version )</td>\n",
       "      <td>Dance &amp; Electronic</td>\n",
       "      <td>$ 1.29</td>\n",
       "      <td>( C ) 2014 Swedish House Mafia Holdings Ltd ( ...</td>\n",
       "      <td>3:18</td>\n",
       "      <td>August 21 , 2009</td>\n",
       "    </tr>\n",
       "    <tr>\n",
       "      <th>1</th>\n",
       "      <td>287</td>\n",
       "      <td>1</td>\n",
       "      <td>Outversion</td>\n",
       "      <td>Mark Ronson</td>\n",
       "      <td>Version</td>\n",
       "      <td>Pop , Music , R&amp;B / Soul,Soul,Dance,Rock,Jazz,...</td>\n",
       "      <td>$ 0.99</td>\n",
       "      <td>2007 Mark Ronson under exclusive license to SO...</td>\n",
       "      <td>1:50</td>\n",
       "      <td>10-Jul-07</td>\n",
       "      <td>Outversion</td>\n",
       "      <td>Mark Ronson</td>\n",
       "      <td>Version [ Explicit ]</td>\n",
       "      <td>Pop</td>\n",
       "      <td>$ 0.99</td>\n",
       "      <td>( c ) 2011 J'adore Records</td>\n",
       "      <td>1:50</td>\n",
       "      <td>July 10 , 2007</td>\n",
       "    </tr>\n",
       "    <tr>\n",
       "      <th>2</th>\n",
       "      <td>534</td>\n",
       "      <td>0</td>\n",
       "      <td>Peer Pressure ( feat . Traci Nelson )</td>\n",
       "      <td>Snoop Dogg</td>\n",
       "      <td>Doggumentary</td>\n",
       "      <td>Hip-Hop/Rap , Music , Rock , Gangsta Rap , Wes...</td>\n",
       "      <td>$ 1.29</td>\n",
       "      <td>‰ ãÑ 2011 Capitol Records , LLC . All rights r...</td>\n",
       "      <td>4:07</td>\n",
       "      <td>29-Mar-11</td>\n",
       "      <td>Boom ( ( Feat . T-Pain ) [ Edited ] )</td>\n",
       "      <td>Snoop Dogg</td>\n",
       "      <td>Doggumentary [ Edited ]</td>\n",
       "      <td>Rap &amp; Hip-Hop , West Coast</td>\n",
       "      <td>$ 1.29</td>\n",
       "      <td>( C ) 2011 Capitol Records , LLC</td>\n",
       "      <td>3:50</td>\n",
       "      <td>March 29 , 2011</td>\n",
       "    </tr>\n",
       "    <tr>\n",
       "      <th>3</th>\n",
       "      <td>181</td>\n",
       "      <td>1</td>\n",
       "      <td>Stars Come Out ( Tim Mason Remix )</td>\n",
       "      <td>Zedd</td>\n",
       "      <td>Stars Come Out ( Remixes ) - EP</td>\n",
       "      <td>Dance , Music , Electronic , House</td>\n",
       "      <td>$ 1.29</td>\n",
       "      <td>2012 Dim Mak Inc.</td>\n",
       "      <td>5:49</td>\n",
       "      <td>20-May-14</td>\n",
       "      <td>Stars Come Out ( Dillon Francis Remix )</td>\n",
       "      <td>Zedd</td>\n",
       "      <td>Stars Come Out [ Dillon Francis Remix ]</td>\n",
       "      <td>Dance &amp; Electronic</td>\n",
       "      <td>$ 1.29</td>\n",
       "      <td>2012 Dim Mak Inc.</td>\n",
       "      <td>4:08</td>\n",
       "      <td>May 20 , 2014</td>\n",
       "    </tr>\n",
       "    <tr>\n",
       "      <th>4</th>\n",
       "      <td>485</td>\n",
       "      <td>0</td>\n",
       "      <td>Jump ( feat . Nelly Furtado )</td>\n",
       "      <td>Flo Rida</td>\n",
       "      <td>R.O.O.T.S. ( Deluxe Version )</td>\n",
       "      <td>Hip-Hop/Rap , Music</td>\n",
       "      <td>$ 1.29</td>\n",
       "      <td>‰ ãÑ 2009 Atlantic Recording Corporation for t...</td>\n",
       "      <td>3:28</td>\n",
       "      <td>30-Mar-09</td>\n",
       "      <td>Yayo [ Feat . Brisco , Billy Blue , Ball Greez...</td>\n",
       "      <td>Flo Rida</td>\n",
       "      <td>R.O.O.T.S. ( Route Of Overcoming The Struggle ...</td>\n",
       "      <td>Rap &amp; Hip-Hop</td>\n",
       "      <td>$ 1.29</td>\n",
       "      <td>( C ) 2012 Motown Records , a Division of UMG ...</td>\n",
       "      <td>7:53</td>\n",
       "      <td>March 30 , 2009</td>\n",
       "    </tr>\n",
       "  </tbody>\n",
       "</table>\n",
       "</div>"
      ],
      "text/plain": [
       "    id  label                                     left_Song_Name  \\\n",
       "0  448      0  Baby When the Light ( David Guetta & Fred Rist...   \n",
       "1  287      1                                         Outversion   \n",
       "2  534      0              Peer Pressure ( feat . Traci Nelson )   \n",
       "3  181      1                 Stars Come Out ( Tim Mason Remix )   \n",
       "4  485      0                      Jump ( feat . Nelly Furtado )   \n",
       "\n",
       "  left_Artist_Name                                  left_Album_Name  \\\n",
       "0     David Guetta  Pop Life ( Extended Version ) [ Bonus Version ]   \n",
       "1      Mark Ronson                                          Version   \n",
       "2       Snoop Dogg                                     Doggumentary   \n",
       "3             Zedd                  Stars Come Out ( Remixes ) - EP   \n",
       "4         Flo Rida                    R.O.O.T.S. ( Deluxe Version )   \n",
       "\n",
       "                                          left_Genre left_Price  \\\n",
       "0  Dance , Music , Rock , Pop , House , Electroni...     $ 1.29   \n",
       "1  Pop , Music , R&B / Soul,Soul,Dance,Rock,Jazz,...     $ 0.99   \n",
       "2  Hip-Hop/Rap , Music , Rock , Gangsta Rap , Wes...     $ 1.29   \n",
       "3                 Dance , Music , Electronic , House     $ 1.29   \n",
       "4                                Hip-Hop/Rap , Music     $ 1.29   \n",
       "\n",
       "                                      left_CopyRight left_Time left_Released  \\\n",
       "0                              ‰ ãÑ 2007 Gum Records      6:17     18-Sep-07   \n",
       "1  2007 Mark Ronson under exclusive license to SO...      1:50     10-Jul-07   \n",
       "2  ‰ ãÑ 2011 Capitol Records , LLC . All rights r...      4:07     29-Mar-11   \n",
       "3                                  2012 Dim Mak Inc.      5:49     20-May-14   \n",
       "4  ‰ ãÑ 2009 Atlantic Recording Corporation for t...      3:28     30-Mar-09   \n",
       "\n",
       "                                     right_Song_Name right_Artist_Name  \\\n",
       "0  Revolver ( Madonna Vs. David Guetta Feat . Lil...      David Guetta   \n",
       "1                                         Outversion       Mark Ronson   \n",
       "2              Boom ( ( Feat . T-Pain ) [ Edited ] )        Snoop Dogg   \n",
       "3            Stars Come Out ( Dillon Francis Remix )              Zedd   \n",
       "4  Yayo [ Feat . Brisco , Billy Blue , Ball Greez...          Flo Rida   \n",
       "\n",
       "                                    right_Album_Name  \\\n",
       "0                        One Love ( Deluxe Version )   \n",
       "1                               Version [ Explicit ]   \n",
       "2                            Doggumentary [ Edited ]   \n",
       "3            Stars Come Out [ Dillon Francis Remix ]   \n",
       "4  R.O.O.T.S. ( Route Of Overcoming The Struggle ...   \n",
       "\n",
       "                  right_Genre right_Price  \\\n",
       "0          Dance & Electronic      $ 1.29   \n",
       "1                         Pop      $ 0.99   \n",
       "2  Rap & Hip-Hop , West Coast      $ 1.29   \n",
       "3          Dance & Electronic      $ 1.29   \n",
       "4               Rap & Hip-Hop      $ 1.29   \n",
       "\n",
       "                                     right_CopyRight right_Time  \\\n",
       "0  ( C ) 2014 Swedish House Mafia Holdings Ltd ( ...       3:18   \n",
       "1                         ( c ) 2011 J'adore Records       1:50   \n",
       "2                   ( C ) 2011 Capitol Records , LLC       3:50   \n",
       "3                                  2012 Dim Mak Inc.       4:08   \n",
       "4  ( C ) 2012 Motown Records , a Division of UMG ...       7:53   \n",
       "\n",
       "     right_Released  \n",
       "0  August 21 , 2009  \n",
       "1    July 10 , 2007  \n",
       "2   March 29 , 2011  \n",
       "3     May 20 , 2014  \n",
       "4   March 30 , 2009  "
      ]
     },
     "execution_count": 5,
     "metadata": {},
     "output_type": "execute_result"
    }
   ],
   "source": [
    "import pandas as pd\n",
    "pd.read_csv('sample_data/itunes-amazon/train.csv').head()"
   ]
  },
  {
   "cell_type": "markdown",
   "metadata": {
    "colab_type": "text",
    "id": "KuCrlwjeQs8i"
   },
   "source": [
    "## Step 1. Process labeled data\n",
    "\n",
    "Before we can use our data for training, `deepmatcher` needs to first load and process it in order to prepare it for neural network training. Currently `deepmatcher` only supports processing CSV files. Each CSV file is assumed to have the following kinds of columns:\n",
    "\n",
    "* **\"Left\" attributes (required):** Our goal is to match tuple pairs. \"Left\" attributes are columns that correspond to the \"left\" tuple or the first tuple in the tuple pair. These column names are expected to be prefixed with \"left_\" by default.\n",
    "* **\"Right\" attributes (required):** \"Right\" attributes are columns that correspond to the \"right\" tuple or the second tuple in the tuple pair. These column names are expected to be prefixed with \"right_\" by default.\n",
    "* **Label column (required for train, validation, test):** Column containing the labels (match or non-match) for each tuple pair. Expected to be named \"label\" by default\n",
    "* **ID column (required):** Column containing a unique ID for each tuple pair. This is for evaluation convenience.  Expected to be named \"id\" by default.\n",
    "\n",
    "More details on what data processing involves and ways to customize it are described in **[this notebook](https://nbviewer.jupyter.org/github/anhaidgroup/deepmatcher/blob/master/examples/data_processing.ipynb)**. \n",
    "\n",
    "### Processing labeled data\n",
    "In order to process our train, validation and test CSV files we call `dm.data.process` in the following code snippet which will load and process the CSV files and return three processed `MatchingDataset` objects respectively. These dataset objects will later be used for training and evaluation. The basic parameters to `dm.data.process` are as follows:\n",
    "\n",
    "* **path (required): ** The path where all data is stored. This includes train, validation and test. `deepmatcher` may create new files in this directory to store information about these data sets. This allows subsequent `dm.data.process` calls to be much faster.\n",
    "* **train (required): ** File name of training data in `path` directory.\n",
    "* **validation (required): ** File name of validation data in `path` directory.\n",
    "* **test (optional): ** File name of test data in `path` directory.\n",
    "* **ignore_columns (optional): ** Any columns in the CSV files that you may want to ignore for the purposes of training. These should be included here. \n",
    "\n",
    "Note that the train, validation and test CSVs must all share the same schema, i.e., they should have the same columns. Processing data involves several steps and can take several minutes to complete, especially if this is the first time you are running the `deepmatcher` package.\n",
    "\n",
    "NOTE: If you are running this in Colab, you may get a message saying 'Memory usage is close to the limit.' You can safely ignore it for now. We are working on reducing the memory footprint."
   ]
  },
  {
   "cell_type": "code",
   "execution_count": 6,
   "metadata": {
    "colab": {
     "autoexec": {
      "startup": false,
      "wait_interval": 0
     },
     "base_uri": "https://localhost:8080/",
     "height": 227
    },
    "colab_type": "code",
    "executionInfo": {
     "elapsed": 120549,
     "status": "ok",
     "timestamp": 1524617249949,
     "user": {
      "displayName": "",
      "photoUrl": "",
      "userId": ""
     },
     "user_tz": 300
    },
    "id": "WJ37wi1HC9EJ",
    "outputId": "6c19622b-1d60-4e01-e810-6ad99173040c"
   },
   "outputs": [],
   "source": [
    "train, validation, test = dm.data.process(\n",
    "    path='sample_data/itunes-amazon',\n",
    "    train='train.csv',\n",
    "    validation='validation.csv',\n",
    "    test='test.csv')"
   ]
  },
  {
   "cell_type": "markdown",
   "metadata": {
    "colab_type": "text",
    "id": "4RCEIm8MQJO3"
   },
   "source": [
    "#### Peeking at processed data\n",
    "Let's take a look at how the processed data looks like. To do this, we get the raw `pandas` table corresponding to the processed training dataset object. "
   ]
  },
  {
   "cell_type": "code",
   "execution_count": 7,
   "metadata": {
    "colab": {
     "autoexec": {
      "startup": false,
      "wait_interval": 0
     },
     "base_uri": "https://localhost:8080/",
     "height": 460
    },
    "colab_type": "code",
    "executionInfo": {
     "elapsed": 333,
     "status": "ok",
     "timestamp": 1524617336979,
     "user": {
      "displayName": "",
      "photoUrl": "",
      "userId": ""
     },
     "user_tz": 300
    },
    "id": "qmkzAzWOQJO3",
    "outputId": "35aed066-c9d9-406b-e6cc-ce7dcd27029a"
   },
   "outputs": [
    {
     "data": {
      "text/html": [
       "<div>\n",
       "<style scoped>\n",
       "    .dataframe tbody tr th:only-of-type {\n",
       "        vertical-align: middle;\n",
       "    }\n",
       "\n",
       "    .dataframe tbody tr th {\n",
       "        vertical-align: top;\n",
       "    }\n",
       "\n",
       "    .dataframe thead th {\n",
       "        text-align: right;\n",
       "    }\n",
       "</style>\n",
       "<table border=\"1\" class=\"dataframe\">\n",
       "  <thead>\n",
       "    <tr style=\"text-align: right;\">\n",
       "      <th></th>\n",
       "      <th>id</th>\n",
       "      <th>label</th>\n",
       "      <th>left_Song_Name</th>\n",
       "      <th>left_Artist_Name</th>\n",
       "      <th>left_Album_Name</th>\n",
       "      <th>left_Genre</th>\n",
       "      <th>left_Price</th>\n",
       "      <th>left_CopyRight</th>\n",
       "      <th>left_Time</th>\n",
       "      <th>left_Released</th>\n",
       "      <th>right_Song_Name</th>\n",
       "      <th>right_Artist_Name</th>\n",
       "      <th>right_Album_Name</th>\n",
       "      <th>right_Genre</th>\n",
       "      <th>right_Price</th>\n",
       "      <th>right_CopyRight</th>\n",
       "      <th>right_Time</th>\n",
       "      <th>right_Released</th>\n",
       "    </tr>\n",
       "  </thead>\n",
       "  <tbody>\n",
       "    <tr>\n",
       "      <th>0</th>\n",
       "      <td>448</td>\n",
       "      <td>0</td>\n",
       "      <td>baby when the light ( david guetta &amp; fred rist...</td>\n",
       "      <td>david guetta</td>\n",
       "      <td>pop life ( extended version ) [ bonus version ]</td>\n",
       "      <td>dance , music , rock , pop , house , electroni...</td>\n",
       "      <td>$ 1.29</td>\n",
       "      <td>‰ ãñ 2007 gum records</td>\n",
       "      <td>6:17</td>\n",
       "      <td>18-sep-07</td>\n",
       "      <td>revolver ( madonna vs. david guetta feat . lil...</td>\n",
       "      <td>david guetta</td>\n",
       "      <td>one love ( deluxe version )</td>\n",
       "      <td>dance &amp; electronic</td>\n",
       "      <td>$ 1.29</td>\n",
       "      <td>( c ) 2014 swedish house mafia holdings ltd ( ...</td>\n",
       "      <td>3:18</td>\n",
       "      <td>august 21 , 2009</td>\n",
       "    </tr>\n",
       "    <tr>\n",
       "      <th>1</th>\n",
       "      <td>287</td>\n",
       "      <td>1</td>\n",
       "      <td>outversion</td>\n",
       "      <td>mark ronson</td>\n",
       "      <td>version</td>\n",
       "      <td>pop , music , r &amp; b / soul , soul , dance , ro...</td>\n",
       "      <td>$ 0.99</td>\n",
       "      <td>2007 mark ronson under exclusive license to so...</td>\n",
       "      <td>1:50</td>\n",
       "      <td>10-jul-07</td>\n",
       "      <td>outversion</td>\n",
       "      <td>mark ronson</td>\n",
       "      <td>version [ explicit ]</td>\n",
       "      <td>pop</td>\n",
       "      <td>$ 0.99</td>\n",
       "      <td>( c ) 2011 j'adore records</td>\n",
       "      <td>1:50</td>\n",
       "      <td>july 10 , 2007</td>\n",
       "    </tr>\n",
       "    <tr>\n",
       "      <th>2</th>\n",
       "      <td>534</td>\n",
       "      <td>0</td>\n",
       "      <td>peer pressure ( feat . traci nelson )</td>\n",
       "      <td>snoop dogg</td>\n",
       "      <td>doggumentary</td>\n",
       "      <td>hip-hop/rap , music , rock , gangsta rap , wes...</td>\n",
       "      <td>$ 1.29</td>\n",
       "      <td>‰ ãñ 2011 capitol records , llc . all rights r...</td>\n",
       "      <td>4:07</td>\n",
       "      <td>29-mar-11</td>\n",
       "      <td>boom ( ( feat . t-pain ) [ edited ] )</td>\n",
       "      <td>snoop dogg</td>\n",
       "      <td>doggumentary [ edited ]</td>\n",
       "      <td>rap &amp; hip-hop , west coast</td>\n",
       "      <td>$ 1.29</td>\n",
       "      <td>( c ) 2011 capitol records , llc</td>\n",
       "      <td>3:50</td>\n",
       "      <td>march 29 , 2011</td>\n",
       "    </tr>\n",
       "    <tr>\n",
       "      <th>3</th>\n",
       "      <td>181</td>\n",
       "      <td>1</td>\n",
       "      <td>stars come out ( tim mason remix )</td>\n",
       "      <td>zedd</td>\n",
       "      <td>stars come out ( remixes ) - ep</td>\n",
       "      <td>dance , music , electronic , house</td>\n",
       "      <td>$ 1.29</td>\n",
       "      <td>2012 dim mak inc .</td>\n",
       "      <td>5:49</td>\n",
       "      <td>20-may-14</td>\n",
       "      <td>stars come out ( dillon francis remix )</td>\n",
       "      <td>zedd</td>\n",
       "      <td>stars come out [ dillon francis remix ]</td>\n",
       "      <td>dance &amp; electronic</td>\n",
       "      <td>$ 1.29</td>\n",
       "      <td>2012 dim mak inc .</td>\n",
       "      <td>4:08</td>\n",
       "      <td>may 20 , 2014</td>\n",
       "    </tr>\n",
       "    <tr>\n",
       "      <th>4</th>\n",
       "      <td>485</td>\n",
       "      <td>0</td>\n",
       "      <td>jump ( feat . nelly furtado )</td>\n",
       "      <td>flo rida</td>\n",
       "      <td>r.o.o.t.s . ( deluxe version )</td>\n",
       "      <td>hip-hop/rap , music</td>\n",
       "      <td>$ 1.29</td>\n",
       "      <td>‰ ãñ 2009 atlantic recording corporation for t...</td>\n",
       "      <td>3:28</td>\n",
       "      <td>30-mar-09</td>\n",
       "      <td>yayo [ feat . brisco , billy blue , ball greez...</td>\n",
       "      <td>flo rida</td>\n",
       "      <td>r.o.o.t.s . ( route of overcoming the struggle...</td>\n",
       "      <td>rap &amp; hip-hop</td>\n",
       "      <td>$ 1.29</td>\n",
       "      <td>( c ) 2012 motown records , a division of umg ...</td>\n",
       "      <td>7:53</td>\n",
       "      <td>march 30 , 2009</td>\n",
       "    </tr>\n",
       "  </tbody>\n",
       "</table>\n",
       "</div>"
      ],
      "text/plain": [
       "    id  label                                     left_Song_Name  \\\n",
       "0  448      0  baby when the light ( david guetta & fred rist...   \n",
       "1  287      1                                         outversion   \n",
       "2  534      0              peer pressure ( feat . traci nelson )   \n",
       "3  181      1                 stars come out ( tim mason remix )   \n",
       "4  485      0                      jump ( feat . nelly furtado )   \n",
       "\n",
       "  left_Artist_Name                                  left_Album_Name  \\\n",
       "0     david guetta  pop life ( extended version ) [ bonus version ]   \n",
       "1      mark ronson                                          version   \n",
       "2       snoop dogg                                     doggumentary   \n",
       "3             zedd                  stars come out ( remixes ) - ep   \n",
       "4         flo rida                   r.o.o.t.s . ( deluxe version )   \n",
       "\n",
       "                                          left_Genre left_Price  \\\n",
       "0  dance , music , rock , pop , house , electroni...     $ 1.29   \n",
       "1  pop , music , r & b / soul , soul , dance , ro...     $ 0.99   \n",
       "2  hip-hop/rap , music , rock , gangsta rap , wes...     $ 1.29   \n",
       "3                 dance , music , electronic , house     $ 1.29   \n",
       "4                                hip-hop/rap , music     $ 1.29   \n",
       "\n",
       "                                      left_CopyRight left_Time left_Released  \\\n",
       "0                              ‰ ãñ 2007 gum records      6:17     18-sep-07   \n",
       "1  2007 mark ronson under exclusive license to so...      1:50     10-jul-07   \n",
       "2  ‰ ãñ 2011 capitol records , llc . all rights r...      4:07     29-mar-11   \n",
       "3                                 2012 dim mak inc .      5:49     20-may-14   \n",
       "4  ‰ ãñ 2009 atlantic recording corporation for t...      3:28     30-mar-09   \n",
       "\n",
       "                                     right_Song_Name right_Artist_Name  \\\n",
       "0  revolver ( madonna vs. david guetta feat . lil...      david guetta   \n",
       "1                                         outversion       mark ronson   \n",
       "2              boom ( ( feat . t-pain ) [ edited ] )        snoop dogg   \n",
       "3            stars come out ( dillon francis remix )              zedd   \n",
       "4  yayo [ feat . brisco , billy blue , ball greez...          flo rida   \n",
       "\n",
       "                                    right_Album_Name  \\\n",
       "0                        one love ( deluxe version )   \n",
       "1                               version [ explicit ]   \n",
       "2                            doggumentary [ edited ]   \n",
       "3            stars come out [ dillon francis remix ]   \n",
       "4  r.o.o.t.s . ( route of overcoming the struggle...   \n",
       "\n",
       "                  right_Genre right_Price  \\\n",
       "0          dance & electronic      $ 1.29   \n",
       "1                         pop      $ 0.99   \n",
       "2  rap & hip-hop , west coast      $ 1.29   \n",
       "3          dance & electronic      $ 1.29   \n",
       "4               rap & hip-hop      $ 1.29   \n",
       "\n",
       "                                     right_CopyRight right_Time  \\\n",
       "0  ( c ) 2014 swedish house mafia holdings ltd ( ...       3:18   \n",
       "1                         ( c ) 2011 j'adore records       1:50   \n",
       "2                   ( c ) 2011 capitol records , llc       3:50   \n",
       "3                                 2012 dim mak inc .       4:08   \n",
       "4  ( c ) 2012 motown records , a division of umg ...       7:53   \n",
       "\n",
       "     right_Released  \n",
       "0  august 21 , 2009  \n",
       "1    july 10 , 2007  \n",
       "2   march 29 , 2011  \n",
       "3     may 20 , 2014  \n",
       "4   march 30 , 2009  "
      ]
     },
     "execution_count": 7,
     "metadata": {},
     "output_type": "execute_result"
    }
   ],
   "source": [
    "train_table = train.get_raw_table()\n",
    "train_table.head()"
   ]
  },
  {
   "cell_type": "markdown",
   "metadata": {
    "colab_type": "text",
    "id": "hpo4JpshQJO6"
   },
   "source": [
    "The processed attribute values have been tokenized and lowercased so they may not look exactly the same as the input training data. These modifications help the neural network generalize better, i.e., perform better on data not trained on. "
   ]
  },
  {
   "cell_type": "markdown",
   "metadata": {
    "colab_type": "text",
    "id": "8mr3oVzuQJO6"
   },
   "source": [
    "## Step 2. Define neural network model\n",
    "\n",
    "In this step you tell `deepmatcher` what kind of neural network you would like to use for entity matching. The easiest way to do this is to use one of the several kinds of neural network models that comes built-in with `deepmatcher`. To use a built-in network, construct a `dm.MatchingModel` as follows:\n",
    "\n",
    "`model = dm.MatchingModel(attr_summarizer='<TYPE>')`\n",
    "\n",
    "where `<TYPE>` is one of `sif`, `rnn`, `attention` or `hybrid`. If you are not familiar with what these mean, we strongly recommend taking a look at either **[slides from our talk on deepmatcher](http://bit.do/deepmatcher-talk)** for a high level overview, or **[our paper](http://pages.cs.wisc.edu/~anhai/papers1/deepmatcher-sigmod18.pdf)** for a more detailed explanation. Here we give briefly describe the intuition behind these four model types:\n",
    "* **sif:** This model considers the **words** present in each attribute value pair to determine a match or non-match. It does not take word order into account.\n",
    "* **rnn:** This model considers the **sequences of words** present in each attribute value pair to determine a match or non-match.\n",
    "* **attention:** This model considers the **alignment of words** present in each attribute value pair to determine a match or non-match. It does not take word order into account.\n",
    "* **hybrid:** This model considers the **alignment of sequences of words** present in each attribute value pair to determine a match or non-match. This is the default.\n",
    "\n",
    "`deepmatcher` is highly customizable and allows you to tune almost every aspect of the neural network model for your application scenario. **[This tutorial](https://nbviewer.jupyter.org/github/anhaidgroup/deepmatcher/blob/master/examples/matching_models.ipynb)** discusses the structure of `MatchingModel`s and how they can be customized.\n",
    "\n",
    "For this tutorial, let's create a `hybrid` model for entity matching:"
   ]
  },
  {
   "cell_type": "code",
   "execution_count": 8,
   "metadata": {
    "colab": {
     "autoexec": {
      "startup": false,
      "wait_interval": 0
     },
     "base_uri": "https://localhost:8080/",
     "height": 17
    },
    "colab_type": "code",
    "executionInfo": {
     "elapsed": 234,
     "status": "ok",
     "timestamp": 1524617340683,
     "user": {
      "displayName": "",
      "photoUrl": "",
      "userId": ""
     },
     "user_tz": 300
    },
    "id": "NwUE2jMXQJO7",
    "outputId": "e05a0482-944b-4a68-a1c4-32e40ba3f17a"
   },
   "outputs": [],
   "source": [
    "model = dm.MatchingModel(attr_summarizer='hybrid')"
   ]
  },
  {
   "cell_type": "markdown",
   "metadata": {
    "colab_type": "text",
    "id": "7iLAHpuVQJO9"
   },
   "source": [
    "## Step 3. Train model\n",
    "\n",
    "Next, we train the defined neural network model using the processed training and validation data. To do so, we call the `run_train` method which takes the following basic parameters:\n",
    "\n",
    "* **train:** The processed training dataset object (of type `MatchingDataset`).\n",
    "* **validation:** The processed validation dataset object (of type `MatchingDataset`).\n",
    "* **epochs:** Number of times to go over the entire `train` data for training the model.\n",
    "* **batch_size:** Number of labeled examples (tuple pairs) to use for each training step. This value may be increased if you have a lot of training data and would like to speed up training. The optimal value is dataset dependent.\n",
    "* **best_save_path:** Path to save the best model.\n",
    "* **pos_neg_ratio**: The ratio of the weight of positive examples (matches) to weight of negative examples (non-matches). This value should be increased if you have fewer matches than non-matches in your data. The optimal value is dataset dependent.\n",
    "\n",
    "Many other aspects of the training algorithm can be customized. For details on this, please refer the API documentation for **[run_train]()**"
   ]
  },
  {
   "cell_type": "code",
   "execution_count": 9,
   "metadata": {
    "colab": {
     "autoexec": {
      "startup": false,
      "wait_interval": 0
     },
     "base_uri": "https://localhost:8080/",
     "height": 2815
    },
    "colab_type": "code",
    "executionInfo": {
     "elapsed": 297777,
     "status": "ok",
     "timestamp": 1524617643666,
     "user": {
      "displayName": "",
      "photoUrl": "",
      "userId": ""
     },
     "user_tz": 300
    },
    "id": "RIZclsK1QJO-",
    "outputId": "f2ce7d13-0bd4-454e-aafc-d19af02e92b0"
   },
   "outputs": [
    {
     "name": "stdout",
     "output_type": "stream",
     "text": [
      "* Number of trainable parameters: 17757810\n",
      "===>  TRAIN Epoch 1\n"
     ]
    },
    {
     "name": "stderr",
     "output_type": "stream",
     "text": [
      "0% [████] 100% | ETA: 00:00:00\n",
      "Total time elapsed: 00:00:04\n"
     ]
    },
    {
     "name": "stdout",
     "output_type": "stream",
     "text": [
      "Finished Epoch 1 || Run Time:    4.1 | Load Time:    0.5 || F1:  46.15 | Prec:  35.42 | Rec:  66.23 || Ex/s:  70.08\n",
      "\n",
      "===>  EVAL Epoch 1\n"
     ]
    },
    {
     "name": "stderr",
     "output_type": "stream",
     "text": [
      "0% [█] 100% | ETA: 00:00:00\n",
      "Total time elapsed: 00:00:00\n"
     ]
    },
    {
     "name": "stdout",
     "output_type": "stream",
     "text": [
      "Finished Epoch 1 || Run Time:    0.6 | Load Time:    0.2 || F1:  66.67 | Prec:  60.00 | Rec:  75.00 || Ex/s: 141.47\n",
      "\n",
      "* Best F1: 66.66666666666667\n",
      "Saving best model...\n",
      "Done.\n",
      "---------------------\n",
      "\n",
      "===>  TRAIN Epoch 2\n"
     ]
    },
    {
     "name": "stderr",
     "output_type": "stream",
     "text": [
      "0% [████] 100% | ETA: 00:00:00\n",
      "Total time elapsed: 00:00:04\n"
     ]
    },
    {
     "name": "stdout",
     "output_type": "stream",
     "text": [
      "Finished Epoch 2 || Run Time:    3.8 | Load Time:    0.5 || F1:  65.64 | Prec:  54.24 | Rec:  83.12 || Ex/s:  75.19\n",
      "\n",
      "===>  EVAL Epoch 2\n"
     ]
    },
    {
     "name": "stderr",
     "output_type": "stream",
     "text": [
      "0% [█] 100% | ETA: 00:00:00\n",
      "Total time elapsed: 00:00:00\n"
     ]
    },
    {
     "name": "stdout",
     "output_type": "stream",
     "text": [
      "Finished Epoch 2 || Run Time:    0.6 | Load Time:    0.2 || F1:  60.32 | Prec:  48.72 | Rec:  79.17 || Ex/s: 143.34\n",
      "\n",
      "---------------------\n",
      "\n",
      "===>  TRAIN Epoch 3\n"
     ]
    },
    {
     "name": "stderr",
     "output_type": "stream",
     "text": [
      "0% [████] 100% | ETA: 00:00:00\n",
      "Total time elapsed: 00:00:04\n"
     ]
    },
    {
     "name": "stdout",
     "output_type": "stream",
     "text": [
      "Finished Epoch 3 || Run Time:    3.9 | Load Time:    0.5 || F1:  80.23 | Prec:  71.00 | Rec:  92.21 || Ex/s:  73.89\n",
      "\n",
      "===>  EVAL Epoch 3\n"
     ]
    },
    {
     "name": "stderr",
     "output_type": "stream",
     "text": [
      "0% [█] 100% | ETA: 00:00:00\n",
      "Total time elapsed: 00:00:00\n"
     ]
    },
    {
     "name": "stdout",
     "output_type": "stream",
     "text": [
      "Finished Epoch 3 || Run Time:    0.6 | Load Time:    0.2 || F1:  75.47 | Prec:  68.97 | Rec:  83.33 || Ex/s: 143.36\n",
      "\n",
      "* Best F1: 75.47169811320755\n",
      "Saving best model...\n",
      "Done.\n",
      "---------------------\n",
      "\n",
      "===>  TRAIN Epoch 4\n"
     ]
    },
    {
     "name": "stderr",
     "output_type": "stream",
     "text": [
      "0% [████] 100% | ETA: 00:00:00\n",
      "Total time elapsed: 00:00:04\n"
     ]
    },
    {
     "name": "stdout",
     "output_type": "stream",
     "text": [
      "Finished Epoch 4 || Run Time:    3.8 | Load Time:    0.5 || F1:  93.25 | Prec:  88.37 | Rec:  98.70 || Ex/s:  74.89\n",
      "\n",
      "===>  EVAL Epoch 4\n"
     ]
    },
    {
     "name": "stderr",
     "output_type": "stream",
     "text": [
      "0% [█] 100% | ETA: 00:00:00\n",
      "Total time elapsed: 00:00:00\n"
     ]
    },
    {
     "name": "stdout",
     "output_type": "stream",
     "text": [
      "Finished Epoch 4 || Run Time:    0.6 | Load Time:    0.2 || F1:  84.00 | Prec:  80.77 | Rec:  87.50 || Ex/s: 143.36\n",
      "\n",
      "* Best F1: 84.0\n",
      "Saving best model...\n",
      "Done.\n",
      "---------------------\n",
      "\n",
      "===>  TRAIN Epoch 5\n"
     ]
    },
    {
     "name": "stderr",
     "output_type": "stream",
     "text": [
      "0% [████] 100% | ETA: 00:00:00\n",
      "Total time elapsed: 00:00:04\n"
     ]
    },
    {
     "name": "stdout",
     "output_type": "stream",
     "text": [
      "Finished Epoch 5 || Run Time:    3.9 | Load Time:    0.5 || F1:  95.00 | Prec:  91.57 | Rec:  98.70 || Ex/s:  73.68\n",
      "\n",
      "===>  EVAL Epoch 5\n"
     ]
    },
    {
     "name": "stderr",
     "output_type": "stream",
     "text": [
      "0% [█] 100% | ETA: 00:00:00\n",
      "Total time elapsed: 00:00:00\n"
     ]
    },
    {
     "name": "stdout",
     "output_type": "stream",
     "text": [
      "Finished Epoch 5 || Run Time:    0.6 | Load Time:    0.2 || F1:  86.27 | Prec:  81.48 | Rec:  91.67 || Ex/s: 142.36\n",
      "\n",
      "* Best F1: 86.27450980392157\n",
      "Saving best model...\n",
      "Done.\n",
      "---------------------\n",
      "\n",
      "===>  TRAIN Epoch 6\n"
     ]
    },
    {
     "name": "stderr",
     "output_type": "stream",
     "text": [
      "0% [████] 100% | ETA: 00:00:00\n",
      "Total time elapsed: 00:00:04\n"
     ]
    },
    {
     "name": "stdout",
     "output_type": "stream",
     "text": [
      "Finished Epoch 6 || Run Time:    3.8 | Load Time:    0.5 || F1:  98.06 | Prec:  97.44 | Rec:  98.70 || Ex/s:  74.76\n",
      "\n",
      "===>  EVAL Epoch 6\n"
     ]
    },
    {
     "name": "stderr",
     "output_type": "stream",
     "text": [
      "0% [█] 100% | ETA: 00:00:00\n",
      "Total time elapsed: 00:00:00\n"
     ]
    },
    {
     "name": "stdout",
     "output_type": "stream",
     "text": [
      "Finished Epoch 6 || Run Time:    0.6 | Load Time:    0.2 || F1:  82.14 | Prec:  71.88 | Rec:  95.83 || Ex/s: 142.86\n",
      "\n",
      "---------------------\n",
      "\n",
      "===>  TRAIN Epoch 7\n"
     ]
    },
    {
     "name": "stderr",
     "output_type": "stream",
     "text": [
      "0% [████] 100% | ETA: 00:00:00\n",
      "Total time elapsed: 00:00:04\n"
     ]
    },
    {
     "name": "stdout",
     "output_type": "stream",
     "text": [
      "Finished Epoch 7 || Run Time:    3.9 | Load Time:    0.5 || F1:  99.35 | Prec:  98.72 | Rec: 100.00 || Ex/s:  74.46\n",
      "\n",
      "===>  EVAL Epoch 7\n"
     ]
    },
    {
     "name": "stderr",
     "output_type": "stream",
     "text": [
      "0% [█] 100% | ETA: 00:00:00\n",
      "Total time elapsed: 00:00:00\n"
     ]
    },
    {
     "name": "stdout",
     "output_type": "stream",
     "text": [
      "Finished Epoch 7 || Run Time:    0.6 | Load Time:    0.2 || F1:  86.79 | Prec:  79.31 | Rec:  95.83 || Ex/s: 142.64\n",
      "\n",
      "* Best F1: 86.79245283018868\n",
      "Saving best model...\n",
      "Done.\n",
      "---------------------\n",
      "\n",
      "===>  TRAIN Epoch 8\n"
     ]
    },
    {
     "name": "stderr",
     "output_type": "stream",
     "text": [
      "0% [████] 100% | ETA: 00:00:00\n",
      "Total time elapsed: 00:00:04\n"
     ]
    },
    {
     "name": "stdout",
     "output_type": "stream",
     "text": [
      "Finished Epoch 8 || Run Time:    3.8 | Load Time:    0.5 || F1: 100.00 | Prec: 100.00 | Rec: 100.00 || Ex/s:  74.91\n",
      "\n",
      "===>  EVAL Epoch 8\n"
     ]
    },
    {
     "name": "stderr",
     "output_type": "stream",
     "text": [
      "0% [█] 100% | ETA: 00:00:00\n",
      "Total time elapsed: 00:00:00\n"
     ]
    },
    {
     "name": "stdout",
     "output_type": "stream",
     "text": [
      "Finished Epoch 8 || Run Time:    0.6 | Load Time:    0.2 || F1:  88.46 | Prec:  82.14 | Rec:  95.83 || Ex/s: 142.52\n",
      "\n",
      "* Best F1: 88.46153846153845\n",
      "Saving best model...\n",
      "Done.\n",
      "---------------------\n",
      "\n",
      "===>  TRAIN Epoch 9\n"
     ]
    },
    {
     "name": "stderr",
     "output_type": "stream",
     "text": [
      "0% [████] 100% | ETA: 00:00:00\n",
      "Total time elapsed: 00:00:04\n"
     ]
    },
    {
     "name": "stdout",
     "output_type": "stream",
     "text": [
      "Finished Epoch 9 || Run Time:    3.8 | Load Time:    0.5 || F1: 100.00 | Prec: 100.00 | Rec: 100.00 || Ex/s:  74.72\n",
      "\n",
      "===>  EVAL Epoch 9\n"
     ]
    },
    {
     "name": "stderr",
     "output_type": "stream",
     "text": [
      "0% [█] 100% | ETA: 00:00:00\n",
      "Total time elapsed: 00:00:00\n"
     ]
    },
    {
     "name": "stdout",
     "output_type": "stream",
     "text": [
      "Finished Epoch 9 || Run Time:    0.6 | Load Time:    0.2 || F1:  88.46 | Prec:  82.14 | Rec:  95.83 || Ex/s: 136.41\n",
      "\n",
      "---------------------\n",
      "\n",
      "===>  TRAIN Epoch 10\n"
     ]
    },
    {
     "name": "stderr",
     "output_type": "stream",
     "text": [
      "0% [████] 100% | ETA: 00:00:00\n",
      "Total time elapsed: 00:00:03\n"
     ]
    },
    {
     "name": "stdout",
     "output_type": "stream",
     "text": [
      "Finished Epoch 10 || Run Time:    3.8 | Load Time:    0.5 || F1: 100.00 | Prec: 100.00 | Rec: 100.00 || Ex/s:  76.23\n",
      "\n",
      "===>  EVAL Epoch 10\n"
     ]
    },
    {
     "name": "stderr",
     "output_type": "stream",
     "text": [
      "0% [█] 100% | ETA: 00:00:00\n",
      "Total time elapsed: 00:00:00\n"
     ]
    },
    {
     "name": "stdout",
     "output_type": "stream",
     "text": [
      "Finished Epoch 10 || Run Time:    0.6 | Load Time:    0.2 || F1:  88.46 | Prec:  82.14 | Rec:  95.83 || Ex/s: 135.69\n",
      "\n",
      "---------------------\n",
      "\n",
      "Loading best model...\n",
      "Training done.\n"
     ]
    },
    {
     "data": {
      "text/plain": [
       "88.46153846153845"
      ]
     },
     "execution_count": 9,
     "metadata": {},
     "output_type": "execute_result"
    }
   ],
   "source": [
    "model.run_train(\n",
    "    train,\n",
    "    validation,\n",
    "    epochs=10,\n",
    "    batch_size=16,\n",
    "    best_save_path='hybrid_model.pth',\n",
    "    pos_neg_ratio=3)"
   ]
  },
  {
   "cell_type": "markdown",
   "metadata": {
    "colab_type": "text",
    "id": "lejVqpjAQJPD"
   },
   "source": [
    "## Step 4. Apply model to new data\n",
    "\n",
    "### Evaluating on test data\n",
    "Now that we have a trained model for entity matching, we can now evaluate its accuracy on test data, to estimate the performance of the model on unlabeled data."
   ]
  },
  {
   "cell_type": "code",
   "execution_count": 10,
   "metadata": {
    "colab": {
     "autoexec": {
      "startup": false,
      "wait_interval": 0
     },
     "base_uri": "https://localhost:8080/",
     "height": 86
    },
    "colab_type": "code",
    "executionInfo": {
     "elapsed": 2111,
     "status": "ok",
     "timestamp": 1524617885197,
     "user": {
      "displayName": "",
      "photoUrl": "",
      "userId": ""
     },
     "user_tz": 300
    },
    "id": "jLoneAI_QJPD",
    "outputId": "2d8a56e0-8ab9-4826-a09f-ffa838eb4eed"
   },
   "outputs": [
    {
     "name": "stdout",
     "output_type": "stream",
     "text": [
      "===>  EVAL Epoch 8\n",
      "Finished Epoch 8 || Run Time:    0.3 | Load Time:    0.2 || F1:  87.10 | Prec:  87.10 | Rec:  87.10 || Ex/s: 199.09\n",
      "\n"
     ]
    },
    {
     "data": {
      "text/plain": [
       "87.09677419354838"
      ]
     },
     "execution_count": 10,
     "metadata": {},
     "output_type": "execute_result"
    }
   ],
   "source": [
    "# Compute F1 on test set\n",
    "model.run_eval(test)"
   ]
  },
  {
   "cell_type": "markdown",
   "metadata": {
    "colab_type": "text",
    "id": "W4ixyezcQJPG"
   },
   "source": [
    "### Evaluating on unlabeled data\n",
    "\n",
    "We finally apply the trained model to unlabeled data to get predictions. To do this, we need to first process the unlabeled data.\n",
    "\n",
    "#### Processing unlabeled data\n",
    "\n",
    "To process unlabeled data, we use `dm.data.process_unlabeled`, as shown in the code snippet below. The basic parameters for this call are as follows:\n",
    "\n",
    "* **path (required): ** The full path to the unlabeled data file (not just the directory).\n",
    "* **trained_model (required): ** The trained model. The model is aware of the configuration of the training data on which it was trained, and so `deepmatcher` reuses the same configuration for the unlabeled data.\n",
    "* **ignore_columns (optional): ** Any columns in the unlabeled CSV file that you may want to ignore for the purposes of evaluation. If not specified, the columns that were ignored while processing the training set will also be ignored while processing the unlabeled data.\n",
    "\n",
    "Note that the unlabeled CSV file must have the same schema as the train, validation and test CSVs."
   ]
  },
  {
   "cell_type": "code",
   "execution_count": 11,
   "metadata": {
    "colab": {
     "autoexec": {
      "startup": false,
      "wait_interval": 0
     },
     "base_uri": "https://localhost:8080/",
     "height": 52
    },
    "colab_type": "code",
    "executionInfo": {
     "elapsed": 725,
     "status": "ok",
     "timestamp": 1524617889802,
     "user": {
      "displayName": "",
      "photoUrl": "",
      "userId": ""
     },
     "user_tz": 300
    },
    "id": "ZmZ7EAtmQJPH",
    "outputId": "dfbe84b0-996b-49f0-caf0-b3961e9b2c70"
   },
   "outputs": [],
   "source": [
    "unlabeled = dm.data.process_unlabeled(\n",
    "    path='sample_data/itunes-amazon/unlabeled.csv',\n",
    "    trained_model=model)"
   ]
  },
  {
   "cell_type": "markdown",
   "metadata": {
    "colab_type": "text",
    "id": "OF18CNWbQJPM"
   },
   "source": [
    "#### Obtaining predictions\n",
    "\n",
    "Next, we call the `run_prediction` method which takes a processed data set object and returns a `pandas` dataframe containing tuple pair IDs (`id` column) and the corresponding match score predictions (`match_score` column). `match_scores` are in [0, 1] and a score above 0.5 indicates a match prediction."
   ]
  },
  {
   "cell_type": "code",
   "execution_count": 12,
   "metadata": {
    "colab": {
     "autoexec": {
      "startup": false,
      "wait_interval": 0
     },
     "base_uri": "https://localhost:8080/",
     "height": 314
    },
    "colab_type": "code",
    "executionInfo": {
     "elapsed": 4427,
     "status": "ok",
     "timestamp": 1524617897938,
     "user": {
      "displayName": "",
      "photoUrl": "",
      "userId": ""
     },
     "user_tz": 300
    },
    "id": "0UE0Lg4KQJPN",
    "outputId": "3a518e46-7b56-4cf7-9df1-ba440ea9becf"
   },
   "outputs": [
    {
     "name": "stdout",
     "output_type": "stream",
     "text": [
      "===>  PREDICT Epoch 8\n"
     ]
    },
    {
     "name": "stderr",
     "output_type": "stream",
     "text": [
      "0% [██] 100% | ETA: 00:00:00\n",
      "Total time elapsed: 00:00:01\n"
     ]
    },
    {
     "name": "stdout",
     "output_type": "stream",
     "text": [
      "Finished Epoch 8 || Run Time:    0.9 | Load Time:    0.6 || F1:   0.00 | Prec:   0.00 | Rec:   0.00 || Ex/s:   0.00\n",
      "\n"
     ]
    },
    {
     "data": {
      "text/html": [
       "<div>\n",
       "<style scoped>\n",
       "    .dataframe tbody tr th:only-of-type {\n",
       "        vertical-align: middle;\n",
       "    }\n",
       "\n",
       "    .dataframe tbody tr th {\n",
       "        vertical-align: top;\n",
       "    }\n",
       "\n",
       "    .dataframe thead th {\n",
       "        text-align: right;\n",
       "    }\n",
       "</style>\n",
       "<table border=\"1\" class=\"dataframe\">\n",
       "  <thead>\n",
       "    <tr style=\"text-align: right;\">\n",
       "      <th></th>\n",
       "      <th>match_score</th>\n",
       "    </tr>\n",
       "    <tr>\n",
       "      <th>id</th>\n",
       "      <th></th>\n",
       "    </tr>\n",
       "  </thead>\n",
       "  <tbody>\n",
       "    <tr>\n",
       "      <th>141999</th>\n",
       "      <td>0.165365</td>\n",
       "    </tr>\n",
       "    <tr>\n",
       "      <th>302034</th>\n",
       "      <td>0.349144</td>\n",
       "    </tr>\n",
       "    <tr>\n",
       "      <th>126354</th>\n",
       "      <td>0.698185</td>\n",
       "    </tr>\n",
       "    <tr>\n",
       "      <th>714676</th>\n",
       "      <td>0.186895</td>\n",
       "    </tr>\n",
       "    <tr>\n",
       "      <th>659997</th>\n",
       "      <td>0.770332</td>\n",
       "    </tr>\n",
       "  </tbody>\n",
       "</table>\n",
       "</div>"
      ],
      "text/plain": [
       "        match_score\n",
       "id                 \n",
       "141999     0.165365\n",
       "302034     0.349144\n",
       "126354     0.698185\n",
       "714676     0.186895\n",
       "659997     0.770332"
      ]
     },
     "execution_count": 12,
     "metadata": {},
     "output_type": "execute_result"
    }
   ],
   "source": [
    "predictions = model.run_prediction(unlabeled)\n",
    "predictions.head()"
   ]
  },
  {
   "cell_type": "markdown",
   "metadata": {
    "colab_type": "text",
    "id": "vXclEMhkQJPR"
   },
   "source": [
    "You may optionally set the `output_attributes` parameter to also include all attributes present in the original input table. As mentioned earlier, the processed attribute values will likely look a bit different from the attribute values in the input CSV files due to modifications such as tokenization and lowercasing."
   ]
  },
  {
   "cell_type": "code",
   "execution_count": 13,
   "metadata": {
    "colab": {
     "autoexec": {
      "startup": false,
      "wait_interval": 0
     },
     "base_uri": "https://localhost:8080/",
     "height": 680
    },
    "colab_type": "code",
    "executionInfo": {
     "elapsed": 4414,
     "status": "ok",
     "timestamp": 1524617906156,
     "user": {
      "displayName": "",
      "photoUrl": "",
      "userId": ""
     },
     "user_tz": 300
    },
    "id": "0wPnH3NPQJPS",
    "outputId": "f0976d43-3c45-49e6-ac10-78a40eed81e0"
   },
   "outputs": [
    {
     "name": "stdout",
     "output_type": "stream",
     "text": [
      "===>  PREDICT Epoch 8\n"
     ]
    },
    {
     "name": "stderr",
     "output_type": "stream",
     "text": [
      "0% [██] 100% | ETA: 00:00:00\n",
      "Total time elapsed: 00:00:01\n"
     ]
    },
    {
     "name": "stdout",
     "output_type": "stream",
     "text": [
      "Finished Epoch 8 || Run Time:    0.9 | Load Time:    0.6 || F1:   0.00 | Prec:   0.00 | Rec:   0.00 || Ex/s:   0.00\n",
      "\n"
     ]
    },
    {
     "data": {
      "text/html": [
       "<div>\n",
       "<style scoped>\n",
       "    .dataframe tbody tr th:only-of-type {\n",
       "        vertical-align: middle;\n",
       "    }\n",
       "\n",
       "    .dataframe tbody tr th {\n",
       "        vertical-align: top;\n",
       "    }\n",
       "\n",
       "    .dataframe thead th {\n",
       "        text-align: right;\n",
       "    }\n",
       "</style>\n",
       "<table border=\"1\" class=\"dataframe\">\n",
       "  <thead>\n",
       "    <tr style=\"text-align: right;\">\n",
       "      <th></th>\n",
       "      <th>match_score</th>\n",
       "      <th>left_Song_Name</th>\n",
       "      <th>left_Artist_Name</th>\n",
       "      <th>left_Album_Name</th>\n",
       "      <th>left_Genre</th>\n",
       "      <th>left_Price</th>\n",
       "      <th>left_CopyRight</th>\n",
       "      <th>left_Time</th>\n",
       "      <th>left_Released</th>\n",
       "      <th>right_Song_Name</th>\n",
       "      <th>right_Artist_Name</th>\n",
       "      <th>right_Album_Name</th>\n",
       "      <th>right_Genre</th>\n",
       "      <th>right_Price</th>\n",
       "      <th>right_CopyRight</th>\n",
       "      <th>right_Time</th>\n",
       "      <th>right_Released</th>\n",
       "    </tr>\n",
       "    <tr>\n",
       "      <th>id</th>\n",
       "      <th></th>\n",
       "      <th></th>\n",
       "      <th></th>\n",
       "      <th></th>\n",
       "      <th></th>\n",
       "      <th></th>\n",
       "      <th></th>\n",
       "      <th></th>\n",
       "      <th></th>\n",
       "      <th></th>\n",
       "      <th></th>\n",
       "      <th></th>\n",
       "      <th></th>\n",
       "      <th></th>\n",
       "      <th></th>\n",
       "      <th></th>\n",
       "      <th></th>\n",
       "    </tr>\n",
       "  </thead>\n",
       "  <tbody>\n",
       "    <tr>\n",
       "      <th>141999</th>\n",
       "      <td>0.165365</td>\n",
       "      <td>Erase ( Samantha Ronson Remix ) [ feat . Priya...</td>\n",
       "      <td>The Chainsmokers</td>\n",
       "      <td>Erase ( Samantha Ronson Remix ) [ feat . Priya...</td>\n",
       "      <td>Pop , Music</td>\n",
       "      <td>$ 1.29</td>\n",
       "      <td>2012 Interscope Records</td>\n",
       "      <td>4:09</td>\n",
       "      <td>4-Dec-12</td>\n",
       "      <td>Auuh Remix ( feat . Pacho , Cirilo &amp; Angel Doze )</td>\n",
       "      <td>Javy the Flow</td>\n",
       "      <td>Auuh Remix ( feat . Pacho , Cirilo &amp; Angel Doze )</td>\n",
       "      <td>R&amp;B , Dance &amp; Electronic , Rap &amp; Hip-Hop , Con...</td>\n",
       "      <td>$ 0.99</td>\n",
       "      <td>2015 Javy the Flow</td>\n",
       "      <td>5:05</td>\n",
       "      <td>June 13 , 2015</td>\n",
       "    </tr>\n",
       "    <tr>\n",
       "      <th>302034</th>\n",
       "      <td>0.349144</td>\n",
       "      <td>True Colors ( feat . Nicki Minaj )</td>\n",
       "      <td>Wiz Khalifa</td>\n",
       "      <td>Blacc Hollywood</td>\n",
       "      <td>Hip-Hop/Rap , Music , Rap , East Coast Rap , H...</td>\n",
       "      <td>$ 1.29</td>\n",
       "      <td>2014 Atlantic Recording Corporation for the Un...</td>\n",
       "      <td>4:15</td>\n",
       "      <td>19-Aug-14</td>\n",
       "      <td>House In The Hills ( feat . Curren $ y ) [ Cle...</td>\n",
       "      <td>Wiz Khalifa</td>\n",
       "      <td>Blacc Hollywood [ Clean ]</td>\n",
       "      <td>Rap &amp; Hip-Hop</td>\n",
       "      <td>$ 0.99</td>\n",
       "      <td>2014 Atlantic Recording Corporation for the Un...</td>\n",
       "      <td>4:52</td>\n",
       "      <td>August 19 , 2014</td>\n",
       "    </tr>\n",
       "    <tr>\n",
       "      <th>126354</th>\n",
       "      <td>0.698185</td>\n",
       "      <td>Biggest Man in Los Angeles</td>\n",
       "      <td>Andy Grammer</td>\n",
       "      <td>Andy Grammer</td>\n",
       "      <td>Pop , Music , Rock , Adult Alternative</td>\n",
       "      <td>$ 1.29</td>\n",
       "      <td>‰ ãÑ 2011 S-Curve Records</td>\n",
       "      <td>3:55</td>\n",
       "      <td>14-Jun-11</td>\n",
       "      <td>Biggest Man In Los Angeles</td>\n",
       "      <td>Andy Grammer</td>\n",
       "      <td>Andy Grammer [ + Video ] [ + Digital Booklet ]</td>\n",
       "      <td>Pop</td>\n",
       "      <td>$ 0.99</td>\n",
       "      <td>( C ) 2011 S-Curve Records</td>\n",
       "      <td>3:54</td>\n",
       "      <td>June 14 , 2011</td>\n",
       "    </tr>\n",
       "    <tr>\n",
       "      <th>714676</th>\n",
       "      <td>0.186895</td>\n",
       "      <td>Good for You ( feat . A$ AP Rocky ) [ KASBO Re...</td>\n",
       "      <td>Selena Gomez</td>\n",
       "      <td>Good for You ( feat . A$ AP Rocky ) [ Remixes ...</td>\n",
       "      <td>Pop , Music</td>\n",
       "      <td>$ 1.29</td>\n",
       "      <td>2015 Interscope Records</td>\n",
       "      <td>3:41</td>\n",
       "      <td>4-Sep-15</td>\n",
       "      <td>Forget Forever ( STå # FAN Remix )</td>\n",
       "      <td>Selena Gomez</td>\n",
       "      <td>For You</td>\n",
       "      <td>Pop</td>\n",
       "      <td>$ 1.29</td>\n",
       "      <td>( C ) 2014 Hollywood Records , Inc.</td>\n",
       "      <td>3:46</td>\n",
       "      <td>November 24 , 2014</td>\n",
       "    </tr>\n",
       "    <tr>\n",
       "      <th>659997</th>\n",
       "      <td>0.770332</td>\n",
       "      <td>Rewind ( feat . Monty )</td>\n",
       "      <td>Fetty Wap</td>\n",
       "      <td>Fetty Wap</td>\n",
       "      <td>Hip-Hop/Rap , Music , Rap</td>\n",
       "      <td>Album Only</td>\n",
       "      <td>2015 300 Entertainment/RGF Productions</td>\n",
       "      <td>5:36</td>\n",
       "      <td>NaN</td>\n",
       "      <td>Rewind ( feat . Monty ) [ Clean ]</td>\n",
       "      <td>Fetty Wap</td>\n",
       "      <td>Fetty Wap ( Deluxe ) [ Clean ]</td>\n",
       "      <td>Rap &amp; Hip-Hop</td>\n",
       "      <td>$ 1.29</td>\n",
       "      <td>( C ) 2000 Mute Records Ltd. , a BMG Company ,...</td>\n",
       "      <td>5:36</td>\n",
       "      <td>September 25 , 2015</td>\n",
       "    </tr>\n",
       "  </tbody>\n",
       "</table>\n",
       "</div>"
      ],
      "text/plain": [
       "        match_score                                     left_Song_Name  \\\n",
       "id                                                                       \n",
       "141999     0.165365  Erase ( Samantha Ronson Remix ) [ feat . Priya...   \n",
       "302034     0.349144                 True Colors ( feat . Nicki Minaj )   \n",
       "126354     0.698185                         Biggest Man in Los Angeles   \n",
       "714676     0.186895  Good for You ( feat . A$ AP Rocky ) [ KASBO Re...   \n",
       "659997     0.770332                            Rewind ( feat . Monty )   \n",
       "\n",
       "        left_Artist_Name                                    left_Album_Name  \\\n",
       "id                                                                            \n",
       "141999  The Chainsmokers  Erase ( Samantha Ronson Remix ) [ feat . Priya...   \n",
       "302034       Wiz Khalifa                                    Blacc Hollywood   \n",
       "126354      Andy Grammer                                       Andy Grammer   \n",
       "714676      Selena Gomez  Good for You ( feat . A$ AP Rocky ) [ Remixes ...   \n",
       "659997         Fetty Wap                                          Fetty Wap   \n",
       "\n",
       "                                               left_Genre  left_Price  \\\n",
       "id                                                                      \n",
       "141999                                        Pop , Music      $ 1.29   \n",
       "302034  Hip-Hop/Rap , Music , Rap , East Coast Rap , H...      $ 1.29   \n",
       "126354             Pop , Music , Rock , Adult Alternative      $ 1.29   \n",
       "714676                                        Pop , Music      $ 1.29   \n",
       "659997                          Hip-Hop/Rap , Music , Rap  Album Only   \n",
       "\n",
       "                                           left_CopyRight left_Time  \\\n",
       "id                                                                    \n",
       "141999                            2012 Interscope Records      4:09   \n",
       "302034  2014 Atlantic Recording Corporation for the Un...      4:15   \n",
       "126354                          ‰ ãÑ 2011 S-Curve Records      3:55   \n",
       "714676                            2015 Interscope Records      3:41   \n",
       "659997             2015 300 Entertainment/RGF Productions      5:36   \n",
       "\n",
       "       left_Released                                    right_Song_Name  \\\n",
       "id                                                                        \n",
       "141999      4-Dec-12  Auuh Remix ( feat . Pacho , Cirilo & Angel Doze )   \n",
       "302034     19-Aug-14  House In The Hills ( feat . Curren $ y ) [ Cle...   \n",
       "126354     14-Jun-11                         Biggest Man In Los Angeles   \n",
       "714676      4-Sep-15                 Forget Forever ( STå # FAN Remix )   \n",
       "659997           NaN                  Rewind ( feat . Monty ) [ Clean ]   \n",
       "\n",
       "       right_Artist_Name                                   right_Album_Name  \\\n",
       "id                                                                            \n",
       "141999     Javy the Flow  Auuh Remix ( feat . Pacho , Cirilo & Angel Doze )   \n",
       "302034       Wiz Khalifa                          Blacc Hollywood [ Clean ]   \n",
       "126354      Andy Grammer     Andy Grammer [ + Video ] [ + Digital Booklet ]   \n",
       "714676      Selena Gomez                                            For You   \n",
       "659997         Fetty Wap                     Fetty Wap ( Deluxe ) [ Clean ]   \n",
       "\n",
       "                                              right_Genre right_Price  \\\n",
       "id                                                                      \n",
       "141999  R&B , Dance & Electronic , Rap & Hip-Hop , Con...      $ 0.99   \n",
       "302034                                      Rap & Hip-Hop      $ 0.99   \n",
       "126354                                                Pop      $ 0.99   \n",
       "714676                                                Pop      $ 1.29   \n",
       "659997                                      Rap & Hip-Hop      $ 1.29   \n",
       "\n",
       "                                          right_CopyRight right_Time  \\\n",
       "id                                                                     \n",
       "141999                                 2015 Javy the Flow       5:05   \n",
       "302034  2014 Atlantic Recording Corporation for the Un...       4:52   \n",
       "126354                         ( C ) 2011 S-Curve Records       3:54   \n",
       "714676                ( C ) 2014 Hollywood Records , Inc.       3:46   \n",
       "659997  ( C ) 2000 Mute Records Ltd. , a BMG Company ,...       5:36   \n",
       "\n",
       "             right_Released  \n",
       "id                           \n",
       "141999       June 13 , 2015  \n",
       "302034     August 19 , 2014  \n",
       "126354       June 14 , 2011  \n",
       "714676   November 24 , 2014  \n",
       "659997  September 25 , 2015  "
      ]
     },
     "execution_count": 13,
     "metadata": {},
     "output_type": "execute_result"
    }
   ],
   "source": [
    "predictions = model.run_prediction(unlabeled, output_attributes=True)\n",
    "predictions.head()"
   ]
  },
  {
   "cell_type": "markdown",
   "metadata": {
    "colab_type": "text",
    "id": "bJxMcI0eQJPU"
   },
   "source": [
    "You can then save these predictions to CSV and use them for downstream tasks."
   ]
  },
  {
   "cell_type": "code",
   "execution_count": 14,
   "metadata": {
    "colab": {
     "autoexec": {
      "startup": false,
      "wait_interval": 0
     },
     "base_uri": "https://localhost:8080/",
     "height": 17
    },
    "colab_type": "code",
    "executionInfo": {
     "elapsed": 240,
     "status": "ok",
     "timestamp": 1524617921564,
     "user": {
      "displayName": "",
      "photoUrl": "",
      "userId": ""
     },
     "user_tz": 300
    },
    "id": "oZYSXoNNQJPV",
    "outputId": "4bef5e85-abd1-472d-dc02-8a0145696a28"
   },
   "outputs": [],
   "source": [
    "predictions.to_csv('sample_data/itunes-amazon/unlabeled_predictions.csv')"
   ]
  },
  {
   "cell_type": "markdown",
   "metadata": {
    "colab_type": "text",
    "id": "3Xo0ULsqQJPX"
   },
   "source": [
    "#### Getting predictions on labeled data\n",
    "\n",
    "You can also get predictions for labeled data such as validation data. To do so, you can simply call the `run_prediction` method passing the validation data as argument."
   ]
  },
  {
   "cell_type": "code",
   "execution_count": 15,
   "metadata": {
    "colab": {
     "autoexec": {
      "startup": false,
      "wait_interval": 0
     },
     "base_uri": "https://localhost:8080/",
     "height": 490
    },
    "colab_type": "code",
    "executionInfo": {
     "elapsed": 2330,
     "status": "ok",
     "timestamp": 1524617938346,
     "user": {
      "displayName": "",
      "photoUrl": "",
      "userId": ""
     },
     "user_tz": 300
    },
    "id": "iXvu3exAQJPY",
    "outputId": "0491b0fc-0fcd-416e-a3b4-9360fe052c7f"
   },
   "outputs": [
    {
     "name": "stdout",
     "output_type": "stream",
     "text": [
      "===>  PREDICT Epoch 8\n",
      "Finished Epoch 8 || Run Time:    0.4 | Load Time:    0.2 || F1:  88.46 | Prec:  82.14 | Rec:  95.83 || Ex/s: 192.18\n",
      "\n"
     ]
    },
    {
     "data": {
      "text/html": [
       "<div>\n",
       "<style scoped>\n",
       "    .dataframe tbody tr th:only-of-type {\n",
       "        vertical-align: middle;\n",
       "    }\n",
       "\n",
       "    .dataframe tbody tr th {\n",
       "        vertical-align: top;\n",
       "    }\n",
       "\n",
       "    .dataframe thead th {\n",
       "        text-align: right;\n",
       "    }\n",
       "</style>\n",
       "<table border=\"1\" class=\"dataframe\">\n",
       "  <thead>\n",
       "    <tr style=\"text-align: right;\">\n",
       "      <th></th>\n",
       "      <th>match_score</th>\n",
       "      <th>label</th>\n",
       "      <th>left_Song_Name</th>\n",
       "      <th>left_Artist_Name</th>\n",
       "      <th>left_Album_Name</th>\n",
       "      <th>left_Genre</th>\n",
       "      <th>left_Price</th>\n",
       "      <th>left_CopyRight</th>\n",
       "      <th>left_Time</th>\n",
       "      <th>left_Released</th>\n",
       "      <th>right_Song_Name</th>\n",
       "      <th>right_Artist_Name</th>\n",
       "      <th>right_Album_Name</th>\n",
       "      <th>right_Genre</th>\n",
       "      <th>right_Price</th>\n",
       "      <th>right_CopyRight</th>\n",
       "      <th>right_Time</th>\n",
       "      <th>right_Released</th>\n",
       "    </tr>\n",
       "    <tr>\n",
       "      <th>id</th>\n",
       "      <th></th>\n",
       "      <th></th>\n",
       "      <th></th>\n",
       "      <th></th>\n",
       "      <th></th>\n",
       "      <th></th>\n",
       "      <th></th>\n",
       "      <th></th>\n",
       "      <th></th>\n",
       "      <th></th>\n",
       "      <th></th>\n",
       "      <th></th>\n",
       "      <th></th>\n",
       "      <th></th>\n",
       "      <th></th>\n",
       "      <th></th>\n",
       "      <th></th>\n",
       "      <th></th>\n",
       "    </tr>\n",
       "  </thead>\n",
       "  <tbody>\n",
       "    <tr>\n",
       "      <th>299</th>\n",
       "      <td>0.210376</td>\n",
       "      <td>0</td>\n",
       "      <td>Blame ( feat . John Newman ) [ BURNS Remix ]</td>\n",
       "      <td>Calvin Harris</td>\n",
       "      <td>Blame ( Remixes ) [ feat . John Newman ] - EP</td>\n",
       "      <td>Dance , Music</td>\n",
       "      <td>$ 1.29</td>\n",
       "      <td>2014 Sony Music Entertainment UK Limited</td>\n",
       "      <td>4:17</td>\n",
       "      <td>10-Nov-14</td>\n",
       "      <td>Pray to God ( R3hab Remix )</td>\n",
       "      <td>Calvin Harris feat . HAIM</td>\n",
       "      <td>Pray to God ( Remixes )</td>\n",
       "      <td>Dance &amp; Electronic</td>\n",
       "      <td>$ 1.29</td>\n",
       "      <td>( C ) 2015 Third Pardee Records , LLC under ex...</td>\n",
       "      <td>4:31</td>\n",
       "      <td>September 25 , 2015</td>\n",
       "    </tr>\n",
       "    <tr>\n",
       "      <th>48</th>\n",
       "      <td>0.991802</td>\n",
       "      <td>1</td>\n",
       "      <td>Afire Love</td>\n",
       "      <td>Ed Sheeran</td>\n",
       "      <td>x</td>\n",
       "      <td>Singer/Songwriter , Music , Pop , Rock , Conte...</td>\n",
       "      <td>$ 1.29</td>\n",
       "      <td>2014 Asylum Records UK , a Warner Music UK Com...</td>\n",
       "      <td>5:14</td>\n",
       "      <td>20-Jun-14</td>\n",
       "      <td>Afire Love</td>\n",
       "      <td>Ed Sheeran</td>\n",
       "      <td>x</td>\n",
       "      <td>Pop</td>\n",
       "      <td>$ 1.29</td>\n",
       "      <td>( C ) 2014 mau5trap Recordings Ltd</td>\n",
       "      <td>5:14</td>\n",
       "      <td>June 20 , 2014</td>\n",
       "    </tr>\n",
       "    <tr>\n",
       "      <th>34</th>\n",
       "      <td>0.187756</td>\n",
       "      <td>0</td>\n",
       "      <td>Lifted ( feat . Emeli Sand ' © &amp; Professor Gre...</td>\n",
       "      <td>Naughty Boy</td>\n",
       "      <td>Hotel Cabana ( Deluxe Version )</td>\n",
       "      <td>Pop , Music , Rock , R&amp;B / Soul , Contemporary...</td>\n",
       "      <td>$ 1.29</td>\n",
       "      <td>2013 Naughty Boy Recordings Ltd under exclusiv...</td>\n",
       "      <td>4:15</td>\n",
       "      <td>6-May-14</td>\n",
       "      <td>Never Been The Same [ feat . Thabo ]</td>\n",
       "      <td>Naughty Boy</td>\n",
       "      <td>Hotel Cabana ( Deluxe Version ) [ Explicit ]</td>\n",
       "      <td>Pop</td>\n",
       "      <td>$ 1.29</td>\n",
       "      <td>( C ) 2014 Naughty Boy Recordings Ltd under ex...</td>\n",
       "      <td>3:29</td>\n",
       "      <td>May 6 , 2014</td>\n",
       "    </tr>\n",
       "    <tr>\n",
       "      <th>215</th>\n",
       "      <td>0.986806</td>\n",
       "      <td>1</td>\n",
       "      <td>Jack Daniels and Jesus</td>\n",
       "      <td>Chase Rice</td>\n",
       "      <td>Ignite the Night</td>\n",
       "      <td>Country , Music , Urban Cowboy , Contemporary ...</td>\n",
       "      <td>$ 1.29</td>\n",
       "      <td>2014 Dack Janiels Records</td>\n",
       "      <td>3:55</td>\n",
       "      <td>19-Aug-14</td>\n",
       "      <td>Jack Daniels and Jesus</td>\n",
       "      <td>Chase Rice</td>\n",
       "      <td>Ignite the Night ( Party Edition ) [ Explicit ]</td>\n",
       "      <td>Country</td>\n",
       "      <td>$ 0.89</td>\n",
       "      <td>( C ) 2014 Dack Janiels Records , under exclus...</td>\n",
       "      <td>3:55</td>\n",
       "      <td>August 19 , 2014</td>\n",
       "    </tr>\n",
       "    <tr>\n",
       "      <th>376</th>\n",
       "      <td>0.172195</td>\n",
       "      <td>0</td>\n",
       "      <td>Turn Around ( 5,4,3,2,1 ) [ AK Remix ]</td>\n",
       "      <td>Flo Rida</td>\n",
       "      <td>Turn Around ( 5,4,3,2,1 ) [ Remixes ]</td>\n",
       "      <td>Dance,Music,Hip-Hop / Rap , Dirty South , Rap ...</td>\n",
       "      <td>$ 1.29</td>\n",
       "      <td>2011 Atlantic Recording Corporation for the Un...</td>\n",
       "      <td>5:09</td>\n",
       "      <td>19-Apr-11</td>\n",
       "      <td>Good Feeling ( Jaywalker Remix )</td>\n",
       "      <td>Flo Rida</td>\n",
       "      <td>Good Feeling ( Remixes )</td>\n",
       "      <td>Dance &amp; Electronic</td>\n",
       "      <td>$ 1.29</td>\n",
       "      <td>( C ) 2009 MPL Tours Inc. under exclusive lice...</td>\n",
       "      <td>4:51</td>\n",
       "      <td>November 15 , 2011</td>\n",
       "    </tr>\n",
       "  </tbody>\n",
       "</table>\n",
       "</div>"
      ],
      "text/plain": [
       "     match_score  label                                     left_Song_Name  \\\n",
       "id                                                                           \n",
       "299     0.210376      0       Blame ( feat . John Newman ) [ BURNS Remix ]   \n",
       "48      0.991802      1                                         Afire Love   \n",
       "34      0.187756      0  Lifted ( feat . Emeli Sand ' © & Professor Gre...   \n",
       "215     0.986806      1                             Jack Daniels and Jesus   \n",
       "376     0.172195      0             Turn Around ( 5,4,3,2,1 ) [ AK Remix ]   \n",
       "\n",
       "    left_Artist_Name                                left_Album_Name  \\\n",
       "id                                                                    \n",
       "299    Calvin Harris  Blame ( Remixes ) [ feat . John Newman ] - EP   \n",
       "48        Ed Sheeran                                              x   \n",
       "34       Naughty Boy                Hotel Cabana ( Deluxe Version )   \n",
       "215       Chase Rice                               Ignite the Night   \n",
       "376         Flo Rida          Turn Around ( 5,4,3,2,1 ) [ Remixes ]   \n",
       "\n",
       "                                            left_Genre left_Price  \\\n",
       "id                                                                  \n",
       "299                                      Dance , Music     $ 1.29   \n",
       "48   Singer/Songwriter , Music , Pop , Rock , Conte...     $ 1.29   \n",
       "34   Pop , Music , Rock , R&B / Soul , Contemporary...     $ 1.29   \n",
       "215  Country , Music , Urban Cowboy , Contemporary ...     $ 1.29   \n",
       "376  Dance,Music,Hip-Hop / Rap , Dirty South , Rap ...     $ 1.29   \n",
       "\n",
       "                                        left_CopyRight left_Time  \\\n",
       "id                                                                 \n",
       "299           2014 Sony Music Entertainment UK Limited      4:17   \n",
       "48   2014 Asylum Records UK , a Warner Music UK Com...      5:14   \n",
       "34   2013 Naughty Boy Recordings Ltd under exclusiv...      4:15   \n",
       "215                          2014 Dack Janiels Records      3:55   \n",
       "376  2011 Atlantic Recording Corporation for the Un...      5:09   \n",
       "\n",
       "    left_Released                       right_Song_Name  \\\n",
       "id                                                        \n",
       "299     10-Nov-14           Pray to God ( R3hab Remix )   \n",
       "48      20-Jun-14                            Afire Love   \n",
       "34       6-May-14  Never Been The Same [ feat . Thabo ]   \n",
       "215     19-Aug-14                Jack Daniels and Jesus   \n",
       "376     19-Apr-11      Good Feeling ( Jaywalker Remix )   \n",
       "\n",
       "             right_Artist_Name  \\\n",
       "id                               \n",
       "299  Calvin Harris feat . HAIM   \n",
       "48                  Ed Sheeran   \n",
       "34                 Naughty Boy   \n",
       "215                 Chase Rice   \n",
       "376                   Flo Rida   \n",
       "\n",
       "                                    right_Album_Name         right_Genre  \\\n",
       "id                                                                         \n",
       "299                          Pray to God ( Remixes )  Dance & Electronic   \n",
       "48                                                 x                 Pop   \n",
       "34      Hotel Cabana ( Deluxe Version ) [ Explicit ]                 Pop   \n",
       "215  Ignite the Night ( Party Edition ) [ Explicit ]             Country   \n",
       "376                         Good Feeling ( Remixes )  Dance & Electronic   \n",
       "\n",
       "    right_Price                                    right_CopyRight right_Time  \\\n",
       "id                                                                              \n",
       "299      $ 1.29  ( C ) 2015 Third Pardee Records , LLC under ex...       4:31   \n",
       "48       $ 1.29                 ( C ) 2014 mau5trap Recordings Ltd       5:14   \n",
       "34       $ 1.29  ( C ) 2014 Naughty Boy Recordings Ltd under ex...       3:29   \n",
       "215      $ 0.89  ( C ) 2014 Dack Janiels Records , under exclus...       3:55   \n",
       "376      $ 1.29  ( C ) 2009 MPL Tours Inc. under exclusive lice...       4:51   \n",
       "\n",
       "          right_Released  \n",
       "id                        \n",
       "299  September 25 , 2015  \n",
       "48        June 20 , 2014  \n",
       "34          May 6 , 2014  \n",
       "215     August 19 , 2014  \n",
       "376   November 15 , 2011  "
      ]
     },
     "execution_count": 15,
     "metadata": {},
     "output_type": "execute_result"
    }
   ],
   "source": [
    "valid_predictions = model.run_prediction(validation, output_attributes=True)\n",
    "valid_predictions.head()"
   ]
  }
 ],
 "metadata": {
  "accelerator": "GPU",
  "colab": {
   "collapsed_sections": [],
   "default_view": {},
   "name": "getting_started.ipynb",
   "provenance": [],
   "version": "0.3.2",
   "views": {}
  },
  "kernelspec": {
   "display_name": "Python 3",
   "language": "python",
   "name": "python3"
  },
  "language_info": {
   "codemirror_mode": {
    "name": "ipython",
    "version": 3
   },
   "file_extension": ".py",
   "mimetype": "text/x-python",
   "name": "python",
   "nbconvert_exporter": "python",
   "pygments_lexer": "ipython3",
   "version": "3.6.4"
  }
 },
 "nbformat": 4,
 "nbformat_minor": 1
}
